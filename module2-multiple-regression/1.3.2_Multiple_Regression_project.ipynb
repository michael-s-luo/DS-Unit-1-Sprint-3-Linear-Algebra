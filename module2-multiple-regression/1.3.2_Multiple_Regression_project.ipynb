{
  "cells": [
    {
      "cell_type": "markdown",
      "metadata": {
        "id": "RQw2GTc8oDRw"
      },
      "source": [
        "# Data Science - Unit 1.3.2\n",
        "Name: Michael Luo\n",
        "\n",
        "Date: 2022/10/10\n",
        "\n",
        "## Module Project: Multiple Linear Regression\n",
        "\n",
        "### Learning Objectives\n",
        "\n",
        "* model the relationship of multiple predictor variables to a single outcome\n",
        "* conduct a t-test to determine the significance of individual variables in the model\n",
        "* compare model fit using R-squared\n",
        "\n",
        "### Total notebook points: 13"
      ]
    },
    {
      "cell_type": "markdown",
      "metadata": {
        "id": "MHWnltybtm8_"
      },
      "source": [
        "## Part A: Introduction\n",
        "\n",
        "### Statistical significance between head size and brain weight in healthy adult humans\n",
        "\n",
        "The `Brainhead.csv` dataset provides information on 237 individuals who were subject to post-mortem examination at the Middlesex Hospital in London around the turn of the 20th century. Study authors used cadavers to see if a relationship between brain weight and other more easily measured physiological characterizes such as age, sex, and head size could be determined. The end goal was to develop a way to estimate a person’s brain size while they were still alive (as the living aren’t keen on having their brains taken out and weighed).\n",
        "\n",
        "**We wish to determine if we can improve on our model of the linear relationship between head size and brain weight in healthy human adults.**\n",
        "\n",
        "Source: R.J. Gladstone (1905). \"A Study of the Relations of the Brain to the Size of the Head\", Biometrika, Vol. 4, pp105-123.\n",
        "\n",
        "### Use the above information to complete the following tasks."
      ]
    },
    {
      "cell_type": "markdown",
      "metadata": {
        "id": "HCdydDBSxKLL"
      },
      "source": [
        "**Task 1** - Load the data\n",
        "\n",
        "Let's load the data! The URL has been provided as well as the imports for pandas and numpy.\n",
        "\n",
        "* load your CSV file into a DataFrame named `df`"
      ]
    },
    {
      "cell_type": "code",
      "execution_count": null,
      "metadata": {
        "deletable": false,
        "id": "0NKz1DvXQHqq",
        "nbgrader": {
          "cell_type": "code",
          "checksum": "7e62c4220847f690fff7fc7bcc2458b9",
          "grade": false,
          "grade_id": "cell-0434f06199d1ad11",
          "locked": false,
          "schema_version": 3,
          "solution": true,
          "task": false
        },
        "colab": {
          "base_uri": "https://localhost:8080/",
          "height": 143
        },
        "outputId": "6096651a-4ced-497a-9a53-6d6fbb1d157a"
      },
      "outputs": [
        {
          "output_type": "execute_result",
          "data": {
            "text/plain": [
              "   Gender  Age  Head  Brain\n",
              "0       1    1  4512   1530\n",
              "1       1    1  3738   1297\n",
              "2       1    1  4261   1335"
            ],
            "text/html": [
              "\n",
              "  <div id=\"df-64915d41-1d59-4d08-aab4-e7019cb60c9d\">\n",
              "    <div class=\"colab-df-container\">\n",
              "      <div>\n",
              "<style scoped>\n",
              "    .dataframe tbody tr th:only-of-type {\n",
              "        vertical-align: middle;\n",
              "    }\n",
              "\n",
              "    .dataframe tbody tr th {\n",
              "        vertical-align: top;\n",
              "    }\n",
              "\n",
              "    .dataframe thead th {\n",
              "        text-align: right;\n",
              "    }\n",
              "</style>\n",
              "<table border=\"1\" class=\"dataframe\">\n",
              "  <thead>\n",
              "    <tr style=\"text-align: right;\">\n",
              "      <th></th>\n",
              "      <th>Gender</th>\n",
              "      <th>Age</th>\n",
              "      <th>Head</th>\n",
              "      <th>Brain</th>\n",
              "    </tr>\n",
              "  </thead>\n",
              "  <tbody>\n",
              "    <tr>\n",
              "      <th>0</th>\n",
              "      <td>1</td>\n",
              "      <td>1</td>\n",
              "      <td>4512</td>\n",
              "      <td>1530</td>\n",
              "    </tr>\n",
              "    <tr>\n",
              "      <th>1</th>\n",
              "      <td>1</td>\n",
              "      <td>1</td>\n",
              "      <td>3738</td>\n",
              "      <td>1297</td>\n",
              "    </tr>\n",
              "    <tr>\n",
              "      <th>2</th>\n",
              "      <td>1</td>\n",
              "      <td>1</td>\n",
              "      <td>4261</td>\n",
              "      <td>1335</td>\n",
              "    </tr>\n",
              "  </tbody>\n",
              "</table>\n",
              "</div>\n",
              "      <button class=\"colab-df-convert\" onclick=\"convertToInteractive('df-64915d41-1d59-4d08-aab4-e7019cb60c9d')\"\n",
              "              title=\"Convert this dataframe to an interactive table.\"\n",
              "              style=\"display:none;\">\n",
              "        \n",
              "  <svg xmlns=\"http://www.w3.org/2000/svg\" height=\"24px\"viewBox=\"0 0 24 24\"\n",
              "       width=\"24px\">\n",
              "    <path d=\"M0 0h24v24H0V0z\" fill=\"none\"/>\n",
              "    <path d=\"M18.56 5.44l.94 2.06.94-2.06 2.06-.94-2.06-.94-.94-2.06-.94 2.06-2.06.94zm-11 1L8.5 8.5l.94-2.06 2.06-.94-2.06-.94L8.5 2.5l-.94 2.06-2.06.94zm10 10l.94 2.06.94-2.06 2.06-.94-2.06-.94-.94-2.06-.94 2.06-2.06.94z\"/><path d=\"M17.41 7.96l-1.37-1.37c-.4-.4-.92-.59-1.43-.59-.52 0-1.04.2-1.43.59L10.3 9.45l-7.72 7.72c-.78.78-.78 2.05 0 2.83L4 21.41c.39.39.9.59 1.41.59.51 0 1.02-.2 1.41-.59l7.78-7.78 2.81-2.81c.8-.78.8-2.07 0-2.86zM5.41 20L4 18.59l7.72-7.72 1.47 1.35L5.41 20z\"/>\n",
              "  </svg>\n",
              "      </button>\n",
              "      \n",
              "  <style>\n",
              "    .colab-df-container {\n",
              "      display:flex;\n",
              "      flex-wrap:wrap;\n",
              "      gap: 12px;\n",
              "    }\n",
              "\n",
              "    .colab-df-convert {\n",
              "      background-color: #E8F0FE;\n",
              "      border: none;\n",
              "      border-radius: 50%;\n",
              "      cursor: pointer;\n",
              "      display: none;\n",
              "      fill: #1967D2;\n",
              "      height: 32px;\n",
              "      padding: 0 0 0 0;\n",
              "      width: 32px;\n",
              "    }\n",
              "\n",
              "    .colab-df-convert:hover {\n",
              "      background-color: #E2EBFA;\n",
              "      box-shadow: 0px 1px 2px rgba(60, 64, 67, 0.3), 0px 1px 3px 1px rgba(60, 64, 67, 0.15);\n",
              "      fill: #174EA6;\n",
              "    }\n",
              "\n",
              "    [theme=dark] .colab-df-convert {\n",
              "      background-color: #3B4455;\n",
              "      fill: #D2E3FC;\n",
              "    }\n",
              "\n",
              "    [theme=dark] .colab-df-convert:hover {\n",
              "      background-color: #434B5C;\n",
              "      box-shadow: 0px 1px 3px 1px rgba(0, 0, 0, 0.15);\n",
              "      filter: drop-shadow(0px 1px 2px rgba(0, 0, 0, 0.3));\n",
              "      fill: #FFFFFF;\n",
              "    }\n",
              "  </style>\n",
              "\n",
              "      <script>\n",
              "        const buttonEl =\n",
              "          document.querySelector('#df-64915d41-1d59-4d08-aab4-e7019cb60c9d button.colab-df-convert');\n",
              "        buttonEl.style.display =\n",
              "          google.colab.kernel.accessAllowed ? 'block' : 'none';\n",
              "\n",
              "        async function convertToInteractive(key) {\n",
              "          const element = document.querySelector('#df-64915d41-1d59-4d08-aab4-e7019cb60c9d');\n",
              "          const dataTable =\n",
              "            await google.colab.kernel.invokeFunction('convertToInteractive',\n",
              "                                                     [key], {});\n",
              "          if (!dataTable) return;\n",
              "\n",
              "          const docLinkHtml = 'Like what you see? Visit the ' +\n",
              "            '<a target=\"_blank\" href=https://colab.research.google.com/notebooks/data_table.ipynb>data table notebook</a>'\n",
              "            + ' to learn more about interactive tables.';\n",
              "          element.innerHTML = '';\n",
              "          dataTable['output_type'] = 'display_data';\n",
              "          await google.colab.output.renderOutput(dataTable, element);\n",
              "          const docLink = document.createElement('div');\n",
              "          docLink.innerHTML = docLinkHtml;\n",
              "          element.appendChild(docLink);\n",
              "        }\n",
              "      </script>\n",
              "    </div>\n",
              "  </div>\n",
              "  "
            ]
          },
          "metadata": {},
          "execution_count": 1
        }
      ],
      "source": [
        "# Task 1\n",
        "\n",
        "import pandas as pd\n",
        "import numpy as np\n",
        "\n",
        "data_url = 'https://raw.githubusercontent.com/bloominstituteoftechnology/data-science-practice-datasets/main/unit_1/Brainhead/Brainhead.csv'\n",
        "\n",
        "# YOUR CODE HERE\n",
        "df = pd.read_csv(data_url)\n",
        "\n",
        "# Print out your DataFrame\n",
        "df.head(n=3)"
      ]
    },
    {
      "cell_type": "code",
      "execution_count": null,
      "metadata": {
        "deletable": false,
        "editable": false,
        "id": "28oXofQSxKLN",
        "nbgrader": {
          "cell_type": "code",
          "checksum": "94e9bf1f2fbcc5bcb864d5a79a80f518",
          "grade": true,
          "grade_id": "cell-1c36b133f6ac028d",
          "locked": true,
          "points": 1,
          "schema_version": 3,
          "solution": false,
          "task": false
        }
      },
      "outputs": [],
      "source": [
        "# Task 1 - Test\n",
        "\n",
        "assert isinstance(df, pd.DataFrame), 'Have you created a DataFrame named `df`?'\n",
        "assert len(df) == 237\n"
      ]
    },
    {
      "cell_type": "markdown",
      "metadata": {
        "id": "4eJsXuRLxKrz"
      },
      "source": [
        "**Task 2** - Fit OLS Model\n",
        "\n",
        "Run the OLS model relating head size to brain weight - you should have done this in your project yesterday. The `statsmodels.formula.api` import has been provided. After you fit your model, print out your model results.\n",
        "\n",
        "* Fit an OLS model and name your variable `model`.\n",
        "\n",
        "*Hint: Make sure to use the format Y ~ X*"
      ]
    },
    {
      "cell_type": "code",
      "execution_count": null,
      "metadata": {
        "deletable": false,
        "id": "c9qyMXd_Hh6l",
        "nbgrader": {
          "cell_type": "code",
          "checksum": "3001d5d99a7f292e111911ab479362ef",
          "grade": false,
          "grade_id": "cell-2aa2fa6eba350a2c",
          "locked": false,
          "schema_version": 3,
          "solution": true,
          "task": false
        },
        "colab": {
          "base_uri": "https://localhost:8080/"
        },
        "outputId": "1aee188d-d61d-48b5-dfc8-c8be4592d9ab"
      },
      "outputs": [
        {
          "output_type": "stream",
          "name": "stdout",
          "text": [
            "                            OLS Regression Results                            \n",
            "==============================================================================\n",
            "Dep. Variable:                  Brain   R-squared:                       0.639\n",
            "Model:                            OLS   Adj. R-squared:                  0.638\n",
            "Method:                 Least Squares   F-statistic:                     416.5\n",
            "Date:                Mon, 10 Oct 2022   Prob (F-statistic):           5.96e-54\n",
            "Time:                        20:24:19   Log-Likelihood:                -1350.3\n",
            "No. Observations:                 237   AIC:                             2705.\n",
            "Df Residuals:                     235   BIC:                             2711.\n",
            "Df Model:                           1                                         \n",
            "Covariance Type:            nonrobust                                         \n",
            "==============================================================================\n",
            "                 coef    std err          t      P>|t|      [0.025      0.975]\n",
            "------------------------------------------------------------------------------\n",
            "Intercept    325.5734     47.141      6.906      0.000     232.701     418.446\n",
            "Head           0.2634      0.013     20.409      0.000       0.238       0.289\n",
            "==============================================================================\n",
            "Omnibus:                        8.329   Durbin-Watson:                   1.843\n",
            "Prob(Omnibus):                  0.016   Jarque-Bera (JB):                8.665\n",
            "Skew:                           0.366   Prob(JB):                       0.0131\n",
            "Kurtosis:                       3.584   Cond. No.                     3.66e+04\n",
            "==============================================================================\n",
            "\n",
            "Notes:\n",
            "[1] Standard Errors assume that the covariance matrix of the errors is correctly specified.\n",
            "[2] The condition number is large, 3.66e+04. This might indicate that there are\n",
            "strong multicollinearity or other numerical problems.\n",
            "                             Test for Constraints                             \n",
            "==============================================================================\n",
            "                 coef    std err          t      P>|t|      [0.025      0.975]\n",
            "------------------------------------------------------------------------------\n",
            "c0             0.2634      0.013     20.409      0.000       0.238       0.289\n",
            "==============================================================================\n"
          ]
        }
      ],
      "source": [
        "# Task 2\n",
        "\n",
        "# Import statsmodels - DON'T Delete\n",
        "from statsmodels.formula.api import ols\n",
        "\n",
        "# Model input format\n",
        "# format Y ~ X\n",
        "\n",
        "# YOUR CODE HERE\n",
        "model = ols('Brain ~ Head', data=df).fit()\n",
        "\n",
        "# Print the model summary\n",
        "print(model.summary())\n",
        "\n",
        "#T-test for slope, H0: slope = 0:\n",
        "print(model.t_test([0,1]))"
      ]
    },
    {
      "cell_type": "code",
      "execution_count": null,
      "metadata": {
        "deletable": false,
        "editable": false,
        "id": "2Z8fWgSCxKLN",
        "nbgrader": {
          "cell_type": "code",
          "checksum": "5f89e20a472e94b28813e9c2678242d7",
          "grade": true,
          "grade_id": "cell-bb49143b30a4fcee",
          "locked": true,
          "points": 1,
          "schema_version": 3,
          "solution": false,
          "task": false
        }
      },
      "outputs": [],
      "source": [
        "# Task 2 - Test\n",
        "# Hidden tests - you will see the results when you submit to Canvas"
      ]
    },
    {
      "cell_type": "markdown",
      "metadata": {
        "id": "y21TW4n67mNq"
      },
      "source": [
        "**Task 3** - Adjusted $R^2$\n",
        "\n",
        "Using your model summary, what is the adjusted $R^2$ for this model?  \n",
        "\n",
        "* Assign the value of adjusted $R^2$ to the variable `adj_R2` (use three decimal places, e.g. 0.123). Your variable should be a float."
      ]
    },
    {
      "cell_type": "code",
      "execution_count": null,
      "metadata": {
        "deletable": false,
        "id": "aPrHlk-fxKLO",
        "nbgrader": {
          "cell_type": "code",
          "checksum": "bf45847fe3042878d7a5943dc3aa2df8",
          "grade": false,
          "grade_id": "cell-0b8d856cc141c2a7",
          "locked": false,
          "schema_version": 3,
          "solution": true,
          "task": false
        },
        "colab": {
          "base_uri": "https://localhost:8080/"
        },
        "outputId": "cb2b91ae-383d-4dce-f7f2-d9a82ec801f1"
      },
      "outputs": [
        {
          "output_type": "stream",
          "name": "stdout",
          "text": [
            "The adjusted R^2 is:  0.638\n"
          ]
        }
      ],
      "source": [
        "# Task 3\n",
        "\n",
        "# YOUR CODE HERE\n",
        "adj_R2 = 0.638\n",
        "\n",
        "# Print the adjusted R^2 value\n",
        "print('The adjusted R^2 is: ', adj_R2)"
      ]
    },
    {
      "cell_type": "code",
      "execution_count": null,
      "metadata": {
        "deletable": false,
        "editable": false,
        "id": "wcS5dUp-xKLP",
        "nbgrader": {
          "cell_type": "code",
          "checksum": "95912fea3cedffb0ffaafacfa45b16a0",
          "grade": true,
          "grade_id": "cell-70088d009573d8ab",
          "locked": true,
          "points": 1,
          "schema_version": 3,
          "solution": false,
          "task": false
        }
      },
      "outputs": [],
      "source": [
        "# Task 3 - Test\n",
        "\n",
        "# Hidden tests - you will see the results when you submit to Canvas"
      ]
    },
    {
      "cell_type": "markdown",
      "metadata": {
        "id": "N2INn9IjpcQv"
      },
      "source": [
        "**Task 4** - Interpret adjusted R-squared\n",
        "\n",
        "Select the correct interpretation of the R-squared value you calculated in Task 3.  Specify your answer in the next code block using `answer = `.  For example, if the correct answer is choice B, you'll type `answer = 'B'`.\n",
        "\n",
        "A: 64% of the variability in head size can be explained by differences in brain weight\n",
        "\n",
        "B: The model is accurate 64% of the time.\n",
        "\n",
        "C: 64% of the variability in brain weight can be explained by differences in head size\n",
        "\n",
        "D: We are 64% confident that we can predict variability in brain weight using differences in head size.\n"
      ]
    },
    {
      "cell_type": "code",
      "execution_count": null,
      "metadata": {
        "deletable": false,
        "id": "UENkK4C9pcQv",
        "nbgrader": {
          "cell_type": "code",
          "checksum": "966f641c320241a7b60018b2eee4bdf5",
          "grade": false,
          "grade_id": "cell-c02b4f62d01286ac",
          "locked": false,
          "schema_version": 3,
          "solution": true,
          "task": false
        }
      },
      "outputs": [],
      "source": [
        "# Task 4\n",
        "\n",
        "# YOUR CODE HERE\n",
        "answer = 'C'\n"
      ]
    },
    {
      "cell_type": "markdown",
      "metadata": {
        "id": "tSqVznCtpcQw"
      },
      "source": [
        "**Task 4 Test**"
      ]
    },
    {
      "cell_type": "code",
      "execution_count": null,
      "metadata": {
        "deletable": false,
        "editable": false,
        "id": "Zuj6te-UpcQw",
        "nbgrader": {
          "cell_type": "code",
          "checksum": "6fa3e36df5933c4210ce08a948a2e3b9",
          "grade": true,
          "grade_id": "cell-3970fbb1a3eaefb5",
          "locked": true,
          "points": 1,
          "schema_version": 3,
          "solution": false,
          "task": false
        }
      },
      "outputs": [],
      "source": [
        "# Task 4 - Test\n",
        "# Hidden tests - you will see the results when you submit to Canvas"
      ]
    },
    {
      "cell_type": "markdown",
      "metadata": {
        "id": "Xj2YmBd_Jl9q"
      },
      "source": [
        "**Task 5** - Encoding new variables\n",
        "\n",
        "From the data dictionary for this data set:\n",
        "\n",
        "Gender\n",
        "* 1 = male\n",
        "* 2 = female\n",
        "\n",
        "Age\n",
        "* 1 = younger than age 46\n",
        "* 2 = age 46 and older\n",
        "\n",
        "Right now age and gender are coded with 1 and 2.  A more conventional way to encode the data for our model would be to subtract \"1\" from Age and Gender so that \"1\" is now coded as \"0\" and \"2\" is now coded as \"1\".  Create two new columns in the DataFrame to do this - don't overwrite the original columns!\n",
        "\n",
        "**Your tasks:**\n",
        "\n",
        "* Create a new Series (column) for age and give it the column name `Age_01`.\n",
        "* Create a new Series (column) for gender and give it the column `Gender_01`."
      ]
    },
    {
      "cell_type": "code",
      "source": [],
      "metadata": {
        "colab": {
          "base_uri": "https://localhost:8080/"
        },
        "id": "Xgr0rFbIkuHG",
        "outputId": "71dbfeb4-72f6-43b5-a8b2-cb280fc54d1d"
      },
      "execution_count": null,
      "outputs": [
        {
          "output_type": "execute_result",
          "data": {
            "text/plain": [
              "array([1, 2])"
            ]
          },
          "metadata": {},
          "execution_count": 8
        }
      ]
    },
    {
      "cell_type": "code",
      "execution_count": null,
      "metadata": {
        "deletable": false,
        "id": "z9z5i-EaKcj6",
        "nbgrader": {
          "cell_type": "code",
          "checksum": "c2b0791c127934a7ecb3e51fcfced239",
          "grade": false,
          "grade_id": "cell-ad1f0446a3bc99b1",
          "locked": false,
          "schema_version": 3,
          "solution": true,
          "task": false
        },
        "colab": {
          "base_uri": "https://localhost:8080/",
          "height": 206
        },
        "outputId": "9748aa47-e7f7-44b9-942b-339f1818a81d"
      },
      "outputs": [
        {
          "output_type": "execute_result",
          "data": {
            "text/plain": [
              "     Gender  Age  Head  Brain  Age_01  Gender_01\n",
              "232       2    2  3214   1110       1          1\n",
              "233       2    2  3394   1215       1          1\n",
              "234       2    2  3233   1104       1          1\n",
              "235       2    2  3352   1170       1          1\n",
              "236       2    2  3391   1120       1          1"
            ],
            "text/html": [
              "\n",
              "  <div id=\"df-50a0a468-a832-4f4c-bf08-7067a37df1b7\">\n",
              "    <div class=\"colab-df-container\">\n",
              "      <div>\n",
              "<style scoped>\n",
              "    .dataframe tbody tr th:only-of-type {\n",
              "        vertical-align: middle;\n",
              "    }\n",
              "\n",
              "    .dataframe tbody tr th {\n",
              "        vertical-align: top;\n",
              "    }\n",
              "\n",
              "    .dataframe thead th {\n",
              "        text-align: right;\n",
              "    }\n",
              "</style>\n",
              "<table border=\"1\" class=\"dataframe\">\n",
              "  <thead>\n",
              "    <tr style=\"text-align: right;\">\n",
              "      <th></th>\n",
              "      <th>Gender</th>\n",
              "      <th>Age</th>\n",
              "      <th>Head</th>\n",
              "      <th>Brain</th>\n",
              "      <th>Age_01</th>\n",
              "      <th>Gender_01</th>\n",
              "    </tr>\n",
              "  </thead>\n",
              "  <tbody>\n",
              "    <tr>\n",
              "      <th>232</th>\n",
              "      <td>2</td>\n",
              "      <td>2</td>\n",
              "      <td>3214</td>\n",
              "      <td>1110</td>\n",
              "      <td>1</td>\n",
              "      <td>1</td>\n",
              "    </tr>\n",
              "    <tr>\n",
              "      <th>233</th>\n",
              "      <td>2</td>\n",
              "      <td>2</td>\n",
              "      <td>3394</td>\n",
              "      <td>1215</td>\n",
              "      <td>1</td>\n",
              "      <td>1</td>\n",
              "    </tr>\n",
              "    <tr>\n",
              "      <th>234</th>\n",
              "      <td>2</td>\n",
              "      <td>2</td>\n",
              "      <td>3233</td>\n",
              "      <td>1104</td>\n",
              "      <td>1</td>\n",
              "      <td>1</td>\n",
              "    </tr>\n",
              "    <tr>\n",
              "      <th>235</th>\n",
              "      <td>2</td>\n",
              "      <td>2</td>\n",
              "      <td>3352</td>\n",
              "      <td>1170</td>\n",
              "      <td>1</td>\n",
              "      <td>1</td>\n",
              "    </tr>\n",
              "    <tr>\n",
              "      <th>236</th>\n",
              "      <td>2</td>\n",
              "      <td>2</td>\n",
              "      <td>3391</td>\n",
              "      <td>1120</td>\n",
              "      <td>1</td>\n",
              "      <td>1</td>\n",
              "    </tr>\n",
              "  </tbody>\n",
              "</table>\n",
              "</div>\n",
              "      <button class=\"colab-df-convert\" onclick=\"convertToInteractive('df-50a0a468-a832-4f4c-bf08-7067a37df1b7')\"\n",
              "              title=\"Convert this dataframe to an interactive table.\"\n",
              "              style=\"display:none;\">\n",
              "        \n",
              "  <svg xmlns=\"http://www.w3.org/2000/svg\" height=\"24px\"viewBox=\"0 0 24 24\"\n",
              "       width=\"24px\">\n",
              "    <path d=\"M0 0h24v24H0V0z\" fill=\"none\"/>\n",
              "    <path d=\"M18.56 5.44l.94 2.06.94-2.06 2.06-.94-2.06-.94-.94-2.06-.94 2.06-2.06.94zm-11 1L8.5 8.5l.94-2.06 2.06-.94-2.06-.94L8.5 2.5l-.94 2.06-2.06.94zm10 10l.94 2.06.94-2.06 2.06-.94-2.06-.94-.94-2.06-.94 2.06-2.06.94z\"/><path d=\"M17.41 7.96l-1.37-1.37c-.4-.4-.92-.59-1.43-.59-.52 0-1.04.2-1.43.59L10.3 9.45l-7.72 7.72c-.78.78-.78 2.05 0 2.83L4 21.41c.39.39.9.59 1.41.59.51 0 1.02-.2 1.41-.59l7.78-7.78 2.81-2.81c.8-.78.8-2.07 0-2.86zM5.41 20L4 18.59l7.72-7.72 1.47 1.35L5.41 20z\"/>\n",
              "  </svg>\n",
              "      </button>\n",
              "      \n",
              "  <style>\n",
              "    .colab-df-container {\n",
              "      display:flex;\n",
              "      flex-wrap:wrap;\n",
              "      gap: 12px;\n",
              "    }\n",
              "\n",
              "    .colab-df-convert {\n",
              "      background-color: #E8F0FE;\n",
              "      border: none;\n",
              "      border-radius: 50%;\n",
              "      cursor: pointer;\n",
              "      display: none;\n",
              "      fill: #1967D2;\n",
              "      height: 32px;\n",
              "      padding: 0 0 0 0;\n",
              "      width: 32px;\n",
              "    }\n",
              "\n",
              "    .colab-df-convert:hover {\n",
              "      background-color: #E2EBFA;\n",
              "      box-shadow: 0px 1px 2px rgba(60, 64, 67, 0.3), 0px 1px 3px 1px rgba(60, 64, 67, 0.15);\n",
              "      fill: #174EA6;\n",
              "    }\n",
              "\n",
              "    [theme=dark] .colab-df-convert {\n",
              "      background-color: #3B4455;\n",
              "      fill: #D2E3FC;\n",
              "    }\n",
              "\n",
              "    [theme=dark] .colab-df-convert:hover {\n",
              "      background-color: #434B5C;\n",
              "      box-shadow: 0px 1px 3px 1px rgba(0, 0, 0, 0.15);\n",
              "      filter: drop-shadow(0px 1px 2px rgba(0, 0, 0, 0.3));\n",
              "      fill: #FFFFFF;\n",
              "    }\n",
              "  </style>\n",
              "\n",
              "      <script>\n",
              "        const buttonEl =\n",
              "          document.querySelector('#df-50a0a468-a832-4f4c-bf08-7067a37df1b7 button.colab-df-convert');\n",
              "        buttonEl.style.display =\n",
              "          google.colab.kernel.accessAllowed ? 'block' : 'none';\n",
              "\n",
              "        async function convertToInteractive(key) {\n",
              "          const element = document.querySelector('#df-50a0a468-a832-4f4c-bf08-7067a37df1b7');\n",
              "          const dataTable =\n",
              "            await google.colab.kernel.invokeFunction('convertToInteractive',\n",
              "                                                     [key], {});\n",
              "          if (!dataTable) return;\n",
              "\n",
              "          const docLinkHtml = 'Like what you see? Visit the ' +\n",
              "            '<a target=\"_blank\" href=https://colab.research.google.com/notebooks/data_table.ipynb>data table notebook</a>'\n",
              "            + ' to learn more about interactive tables.';\n",
              "          element.innerHTML = '';\n",
              "          dataTable['output_type'] = 'display_data';\n",
              "          await google.colab.output.renderOutput(dataTable, element);\n",
              "          const docLink = document.createElement('div');\n",
              "          docLink.innerHTML = docLinkHtml;\n",
              "          element.appendChild(docLink);\n",
              "        }\n",
              "      </script>\n",
              "    </div>\n",
              "  </div>\n",
              "  "
            ]
          },
          "metadata": {},
          "execution_count": 12
        }
      ],
      "source": [
        "# Task 5\n",
        "\n",
        "# YOUR CODE HERE\n",
        "#Method 1: subtracting 1\n",
        "df['Age_01'] = df['Age'] - 1\n",
        "\n",
        "#Method 2: using map\n",
        "map_gender = {1:0, 2:1}\n",
        "df['Gender_01'] = df['Gender'].map(map_gender)\n",
        "\n",
        "# View the DataFrame\n",
        "df.tail(n=5)"
      ]
    },
    {
      "cell_type": "code",
      "execution_count": null,
      "metadata": {
        "deletable": false,
        "editable": false,
        "id": "EZYTh-kdxKLQ",
        "nbgrader": {
          "cell_type": "code",
          "checksum": "e9af2d4903be0d4eeb6fd0725e4b8ef5",
          "grade": true,
          "grade_id": "cell-84c1602875b4b2fd",
          "locked": true,
          "points": 1,
          "schema_version": 3,
          "solution": false,
          "task": false
        }
      },
      "outputs": [],
      "source": [
        "# Task 4 - Test\n",
        "\n",
        "assert df.shape == (237, 6), 'Did you add two new columns (and only two)?'\n"
      ]
    },
    {
      "cell_type": "markdown",
      "metadata": {
        "id": "DGuhAOmhId9d"
      },
      "source": [
        "**Task 5** - Multiple Regression (adding in \"Age\")\n",
        "\n",
        "We're going to try to improve our model by fitting a model on more than one independent parameter.\n",
        "\n",
        "* Fit a model to Y (brain weight) and X1 and X2 (head size and age group); assign your model to the variable `model_2` (make sure to use `C(Age_01)` for the age variable)\n",
        "\n",
        "*Hint: Enter the model in the format Y ~ X1 + X2*"
      ]
    },
    {
      "cell_type": "code",
      "execution_count": null,
      "metadata": {
        "deletable": false,
        "id": "d6fY5PSPIuOi",
        "nbgrader": {
          "cell_type": "code",
          "checksum": "7242223fa9de0ce7c7ed035b811deaef",
          "grade": false,
          "grade_id": "cell-f10e617763776ff5",
          "locked": false,
          "schema_version": 3,
          "solution": true,
          "task": false
        },
        "colab": {
          "base_uri": "https://localhost:8080/"
        },
        "outputId": "16ebb685-8d6e-42fd-f8b9-90ef967b67f5"
      },
      "outputs": [
        {
          "output_type": "stream",
          "name": "stdout",
          "text": [
            "                            OLS Regression Results                            \n",
            "==============================================================================\n",
            "Dep. Variable:                  Brain   R-squared:                       0.647\n",
            "Model:                            OLS   Adj. R-squared:                  0.644\n",
            "Method:                 Least Squares   F-statistic:                     214.1\n",
            "Date:                Mon, 10 Oct 2022   Prob (F-statistic):           1.38e-53\n",
            "Time:                        20:31:21   Log-Likelihood:                -1347.8\n",
            "No. Observations:                 237   AIC:                             2702.\n",
            "Df Residuals:                     234   BIC:                             2712.\n",
            "Df Model:                           2                                         \n",
            "Covariance Type:            nonrobust                                         \n",
            "==================================================================================\n",
            "                     coef    std err          t      P>|t|      [0.025      0.975]\n",
            "----------------------------------------------------------------------------------\n",
            "Intercept        347.5505     47.811      7.269      0.000     253.355     441.746\n",
            "C(Age_01)[T.1]   -20.7316      9.410     -2.203      0.029     -39.270      -2.193\n",
            "Head               0.2604      0.013     20.229      0.000       0.235       0.286\n",
            "==============================================================================\n",
            "Omnibus:                        7.943   Durbin-Watson:                   1.889\n",
            "Prob(Omnibus):                  0.019   Jarque-Bera (JB):                8.238\n",
            "Skew:                           0.353   Prob(JB):                       0.0163\n",
            "Kurtosis:                       3.579   Cond. No.                     3.75e+04\n",
            "==============================================================================\n",
            "\n",
            "Notes:\n",
            "[1] Standard Errors assume that the covariance matrix of the errors is correctly specified.\n",
            "[2] The condition number is large, 3.75e+04. This might indicate that there are\n",
            "strong multicollinearity or other numerical problems.\n",
            "                             Test for Constraints                             \n",
            "==============================================================================\n",
            "                 coef    std err          t      P>|t|      [0.025      0.975]\n",
            "------------------------------------------------------------------------------\n",
            "c0           -20.9921      9.408     -2.231      0.027     -39.528      -2.456\n",
            "==============================================================================\n"
          ]
        }
      ],
      "source": [
        "# Task 5\n",
        "\n",
        "# Model input format: Y ~ X1 + X2*\n",
        "\n",
        "# YOUR CODE HERE\n",
        "model_2 = ols('Brain ~ Head + C(Age_01)', data=df).fit()\n",
        "\n",
        "# Print the model summary\n",
        "print(model_2.summary())\n",
        "\n",
        "# T-test, if coefs of age & head are equal:\n",
        "# print(model_2.t_test([0,1,-1]))"
      ]
    },
    {
      "cell_type": "code",
      "execution_count": null,
      "metadata": {
        "deletable": false,
        "editable": false,
        "id": "-xNFIMOQxKLQ",
        "nbgrader": {
          "cell_type": "code",
          "checksum": "5221daa4d20938bddd19b4fbffe3bd8f",
          "grade": true,
          "grade_id": "cell-ba2bb42fefe49970",
          "locked": true,
          "points": 1,
          "schema_version": 3,
          "solution": false,
          "task": false
        }
      },
      "outputs": [],
      "source": [
        "# Task 5 - Test\n",
        "# Hidden tests - you will see the results when you submit to Canvas"
      ]
    },
    {
      "cell_type": "markdown",
      "metadata": {
        "id": "Bq5YE7heKoDo"
      },
      "source": [
        "**Task 6** - Statistical significance\n",
        "\n",
        "* Find the p-value for `Age_01` in your model and assign it to the variable `pval_age` (use three decimal places, e.g. 0.123). Your value should be a float.\n",
        "\n",
        "At the alpha = 0.05 level, is age group statistically significantly associated with brain weight after accounting for head size?  Explain your answer in at least one complete sentence.\n",
        "\n",
        "ANSWER: Yes, the cumulative probability of a slope as or more extreme than our result is 2.9%.\n",
        "\n",
        "At the alpha = 0.01 level, is age group statistically significantly associated with brain weight after accounting for head size? Explain your answer in at least one complete sentence.\n",
        "\n",
        "ANSWER: No, the cumulative probability of a slope as or more extreme than our result is 2.9%. Though a rather unusual result, at the alpha = 0.01 level we cannot reject the null hypothesis.\n"
      ]
    },
    {
      "cell_type": "code",
      "execution_count": null,
      "metadata": {
        "deletable": false,
        "id": "aDKxhiGCxKLR",
        "nbgrader": {
          "cell_type": "code",
          "checksum": "581b72de56062597038ca9723db06224",
          "grade": false,
          "grade_id": "cell-e76b59ebd9a33e39",
          "locked": false,
          "schema_version": 3,
          "solution": true,
          "task": false
        }
      },
      "outputs": [],
      "source": [
        "# Task 6\n",
        "\n",
        "# YOUR CODE HERE\n",
        "pval_age = 0.029"
      ]
    },
    {
      "cell_type": "code",
      "execution_count": null,
      "metadata": {
        "deletable": false,
        "editable": false,
        "id": "gKQLOjgIxKLS",
        "nbgrader": {
          "cell_type": "code",
          "checksum": "403cce92142fdf87d7773033bc03050d",
          "grade": true,
          "grade_id": "cell-45d090dbd7235338",
          "locked": true,
          "points": 1,
          "schema_version": 3,
          "solution": false,
          "task": false
        }
      },
      "outputs": [],
      "source": [
        "# Task 6 - Test\n",
        "\n",
        "# Hidden tests - you will see the results when you submit to Canvas"
      ]
    },
    {
      "cell_type": "markdown",
      "metadata": {
        "id": "VAdboVOmLsqR"
      },
      "source": [
        "**Task 7** - Adjusted $R^2$\n",
        "\n",
        "What is the adjusted $R^2$ for the model relating head size and age group to brain weight?  \n",
        "\n",
        "* Assign the adjusted $R^2$ value to `adj_R2_new`. This value should be a float.\n",
        "\n",
        "Does adding age group to the model increase the amount of variability in brain weight explained by the model?\n",
        "\n",
        "ANSWER:"
      ]
    },
    {
      "cell_type": "code",
      "execution_count": null,
      "metadata": {
        "deletable": false,
        "id": "DhLlb17nxKLS",
        "nbgrader": {
          "cell_type": "code",
          "checksum": "87c9524867994e9e3438ff5c938628cf",
          "grade": false,
          "grade_id": "cell-39e56b2549fd6715",
          "locked": false,
          "schema_version": 3,
          "solution": true,
          "task": false
        },
        "colab": {
          "base_uri": "https://localhost:8080/"
        },
        "outputId": "acfe24a2-5d7c-46b6-a040-0e40d5ccae3a"
      },
      "outputs": [
        {
          "output_type": "stream",
          "name": "stdout",
          "text": [
            "The adjusted R^2 new is:  0.644\n"
          ]
        }
      ],
      "source": [
        "# Task 7\n",
        "\n",
        "# YOUR CODE HERE\n",
        "adj_R2_new = 0.644\n",
        "\n",
        "# Print the adjusted R^2 new value\n",
        "print('The adjusted R^2 new is: ', adj_R2_new)"
      ]
    },
    {
      "cell_type": "code",
      "execution_count": null,
      "metadata": {
        "deletable": false,
        "editable": false,
        "id": "sRON8GI9xKLS",
        "nbgrader": {
          "cell_type": "code",
          "checksum": "ac907b8d86db25b6db1b22b1bbf30c3b",
          "grade": true,
          "grade_id": "cell-1cce579f5ceec835",
          "locked": true,
          "points": 1,
          "schema_version": 3,
          "solution": false,
          "task": false
        }
      },
      "outputs": [],
      "source": [
        "# Task 7 - Test\n",
        "\n",
        "# Hidden tests - you will see the results when you submit to Canvas"
      ]
    },
    {
      "cell_type": "markdown",
      "metadata": {
        "id": "Je3yM5G9Mdkx"
      },
      "source": [
        "**Task 8** - Multiple Regression (adding in Gender)\n",
        "\n",
        "We're going to try another multiple regression to improve our model!\n",
        "\n",
        "* Fit a model to Y (brain weight) and X1 and X2 (head size and gender); assign your model to the variable `model_3` (make sure to use `C(Gender_01)` for the age variable).\n",
        "\n",
        "*Hint: Enter the model in the format Y ~ X1 + X2*"
      ]
    },
    {
      "cell_type": "code",
      "execution_count": null,
      "metadata": {
        "deletable": false,
        "id": "Ii7PVMgJMnNC",
        "nbgrader": {
          "cell_type": "code",
          "checksum": "1ec5cf49f96c26a62fb56604b0bb9d82",
          "grade": false,
          "grade_id": "cell-6e2d7e8b615b59d7",
          "locked": false,
          "schema_version": 3,
          "solution": true,
          "task": false
        },
        "colab": {
          "base_uri": "https://localhost:8080/"
        },
        "outputId": "76f49f90-2dec-4de0-a7a7-f381701bc967"
      },
      "outputs": [
        {
          "output_type": "stream",
          "name": "stdout",
          "text": [
            "                            OLS Regression Results                            \n",
            "==============================================================================\n",
            "Dep. Variable:                  Brain   R-squared:                       0.643\n",
            "Model:                            OLS   Adj. R-squared:                  0.640\n",
            "Method:                 Least Squares   F-statistic:                     211.0\n",
            "Date:                Mon, 10 Oct 2022   Prob (F-statistic):           4.15e-53\n",
            "Time:                        20:37:53   Log-Likelihood:                -1348.9\n",
            "No. Observations:                 237   AIC:                             2704.\n",
            "Df Residuals:                     234   BIC:                             2714.\n",
            "Df Model:                           2                                         \n",
            "Covariance Type:            nonrobust                                         \n",
            "=====================================================================================\n",
            "                        coef    std err          t      P>|t|      [0.025      0.975]\n",
            "-------------------------------------------------------------------------------------\n",
            "Intercept           378.7139     57.299      6.609      0.000     265.825     491.603\n",
            "C(Gender_01)[T.1]   -17.8615     11.027     -1.620      0.107     -39.586       3.863\n",
            "Head                  0.2509      0.015     16.734      0.000       0.221       0.280\n",
            "==============================================================================\n",
            "Omnibus:                        8.109   Durbin-Watson:                   1.858\n",
            "Prob(Omnibus):                  0.017   Jarque-Bera (JB):                8.403\n",
            "Skew:                           0.360   Prob(JB):                       0.0150\n",
            "Kurtosis:                       3.576   Cond. No.                     4.49e+04\n",
            "==============================================================================\n",
            "\n",
            "Notes:\n",
            "[1] Standard Errors assume that the covariance matrix of the errors is correctly specified.\n",
            "[2] The condition number is large, 4.49e+04. This might indicate that there are\n",
            "strong multicollinearity or other numerical problems.\n"
          ]
        }
      ],
      "source": [
        "# Task 8\n",
        "\n",
        "# Model input format: Y ~ X1 + X2*\n",
        "\n",
        "# YOUR CODE HERE\n",
        "model_3 = ols('Brain ~ Head + C(Gender_01)', data=df).fit()\n",
        "\n",
        "# Print the model summary\n",
        "print(model_3.summary())\n"
      ]
    },
    {
      "cell_type": "code",
      "execution_count": null,
      "metadata": {
        "deletable": false,
        "editable": false,
        "id": "ntDct-DqxKLT",
        "nbgrader": {
          "cell_type": "code",
          "checksum": "ee239f960ee2860a7286511017de7770",
          "grade": true,
          "grade_id": "cell-5e7bef722b7fe2ec",
          "locked": true,
          "points": 1,
          "schema_version": 3,
          "solution": false,
          "task": false
        }
      },
      "outputs": [],
      "source": [
        "# Task 8 - Test\n",
        "# Hidden tests - you will see the results when you submit to Canvas"
      ]
    },
    {
      "cell_type": "markdown",
      "metadata": {
        "id": "tYG00tRDM4E9"
      },
      "source": [
        "**Task 9** - Significance (short answer)\n",
        "\n",
        "At the alpha = 0.05 level, is gender statistically significantly associated with brain weight after accounting for head size?  Explain your answer in at least one complete sentence.\n",
        "\n",
        "We cannot reject the null hypothesis that gender has no linear correlation with brain weight at the alpha = 0.05 level. Given the null sampling t-distribution of the gender coefficient, the cumulative probability of our result or anything more extreme is p=0.107 or 10.7%. In other words, the 95% confidence interval for the gender coefficient is [-39.6 to 3.9]; this contains 0 so we cannot rule out that there isn't a linear relationship."
      ]
    },
    {
      "cell_type": "markdown",
      "metadata": {
        "id": "EmEI47CbC-ld"
      },
      "source": [
        "**Task 10** - Linear model equation (short answer)\n",
        "\n",
        "Write the linear model (insert the coefficients in the correct places) used to model the relationship between head size, age group and predicted brain weight. *Make sure to use the correct model!*\n",
        "\n",
        "EQUATION: Y = $\\beta_{0}$ + $\\beta_{1}$ * (Brain Weight) + $\\beta_{2}$ * (Age Group) + ϵ\n",
        "\n"
      ]
    },
    {
      "cell_type": "markdown",
      "metadata": {
        "id": "GI170a6-o6hx"
      },
      "source": [
        "**Task 11** - Create a plot!\n",
        "\n",
        "Plot the relationship between head size and brain weight on a scatterplot. Use different color dots to represent older and younger individuals. You can use `matplotlib` or `seaborn`."
      ]
    },
    {
      "cell_type": "code",
      "execution_count": null,
      "metadata": {
        "deletable": false,
        "id": "LtYcWjOGAXo3",
        "nbgrader": {
          "cell_type": "code",
          "checksum": "8c3b6fa31cc8859c9b3448ff71034169",
          "grade": false,
          "grade_id": "cell-5fe9394388a9edfb",
          "locked": false,
          "schema_version": 3,
          "solution": true,
          "task": false
        },
        "colab": {
          "base_uri": "https://localhost:8080/",
          "height": 655
        },
        "outputId": "42795d5c-4417-4615-b085-2e0f95b66b8b"
      },
      "outputs": [
        {
          "output_type": "execute_result",
          "data": {
            "text/plain": [
              "Text(0.5, 1.0, 'Brain Weight vs Head Size by Age Group')"
            ]
          },
          "metadata": {},
          "execution_count": 58
        },
        {
          "output_type": "display_data",
          "data": {
            "text/plain": [
              "<Figure size 864x288 with 2 Axes>"
            ],
            "image/png": "[encoded data removed]"
          },
          "metadata": {
            "needs_background": "light"
          }
        },
        {
          "output_type": "display_data",
          "data": {
            "text/plain": [
              "<Figure size 405x360 with 1 Axes>"
            ],
            "image/png": "[encoded data removed]"
          },
          "metadata": {
            "needs_background": "light"
          }
        }
      ],
      "source": [
        "# Task 11\n",
        "\n",
        "# YOUR CODE HERE\n",
        "import matplotlib.pyplot as plt\n",
        "import seaborn as sns\n",
        "\n",
        "fig, axes = plt.subplots(1,2, figsize=(12,4))\n",
        "#Method 1: seaborn\n",
        "\n",
        "\n",
        "lmfig = sns.lmplot(data=df, y='Brain', x='Head', hue='Age_01').fig\n",
        "lmfig.axes[0].set_title(\"Brain Weight vs Head Size by Age Group\")\n",
        "\n",
        "\n",
        "\n",
        "\n"
      ]
    },
    {
      "cell_type": "markdown",
      "metadata": {
        "id": "wqv11_e7S7Ib"
      },
      "source": [
        "**Task 12** - Make predictions\n",
        "\n",
        "Estimate the brain weight of a 60-year-old with a head size of 4000 cubic cm. **Make sure to select the correct model you fit above! Look carefully at the model results so you know what order the model coefficients are given in the output.  It is *different* than the order you entered the terms in the model.**  \n",
        "\n",
        "* assign the age group (either a 0 or 1) to the variable `x1` (integer)\n",
        "* assign the head size to the variable `x2` (integer)\n",
        "* assign the intercept to `intercept` (float)\n",
        "* assign the slope parameter for the age to `slope1` (float)\n",
        "* assign the slope parameter for head size  to `slope2` (float)\n",
        "* assign the prediction to the variable `predicted` (float)"
      ]
    },
    {
      "cell_type": "code",
      "execution_count": null,
      "metadata": {
        "deletable": false,
        "id": "Az7aXj-N6sW6",
        "nbgrader": {
          "cell_type": "code",
          "checksum": "e8366107a5a02c1a25272e6393b4567e",
          "grade": false,
          "grade_id": "cell-c6a58b3a206a56d1",
          "locked": false,
          "schema_version": 3,
          "solution": true,
          "task": false
        },
        "colab": {
          "base_uri": "https://localhost:8080/"
        },
        "outputId": "b66fbb84-315d-4358-a317-8c3ac159e6b3"
      },
      "outputs": [
        {
          "output_type": "stream",
          "name": "stdout",
          "text": [
            "Slopes: -20.7316 , 0.2604\n",
            "The predicted value for brain size is: 1368.5684\n"
          ]
        }
      ],
      "source": [
        "# Task 12\n",
        "\n",
        "# YOUR CODE HERE\n",
        "#60 year old, head size 4000\n",
        "x1 = 1\n",
        "x2 = 4000\n",
        "intercept = 347.7\n",
        "slope1 = -20.7316\n",
        "slope2 = 0.2604\n",
        "\n",
        "predicted = intercept + (slope1 * x1) + (slope2 * x2)\n",
        "\n",
        "# Print out variables to troubleshoot!\n",
        "print(f'Slopes: {slope1} , {slope2}')\n",
        "\n",
        "# View your prediction\n",
        "print('The predicted value for brain size is:', predicted)\n"
      ]
    },
    {
      "cell_type": "code",
      "execution_count": null,
      "metadata": {
        "deletable": false,
        "editable": false,
        "id": "ePZhMoVzxKLV",
        "nbgrader": {
          "cell_type": "code",
          "checksum": "fb123435fe49633b3d46008f52fc6ce1",
          "grade": true,
          "grade_id": "cell-4d1b9dcc5f82390f",
          "locked": true,
          "points": 1,
          "schema_version": 3,
          "solution": false,
          "task": false
        }
      },
      "outputs": [],
      "source": [
        "# Task 12 - Test\n",
        "# Hidden tests - you will see the results when you submit to Canvas"
      ]
    },
    {
      "cell_type": "markdown",
      "metadata": {
        "id": "-rhf7zmX9g3E"
      },
      "source": [
        "**Task 13** - Make another prediction\n",
        "\n",
        "Estimate the brain weight of a 20-year-old with a head size of 3900 cubic cm. Use the same slope and intercept parameters you used above. But - change your `x1` and `x2` values!\n",
        "\n",
        "* change the values for `x1` and `x2` (both are integers)\n",
        "* assign your prediction to the variable `predicted_2` (float)"
      ]
    },
    {
      "cell_type": "code",
      "execution_count": null,
      "metadata": {
        "deletable": false,
        "id": "gX01KjaSQxkF",
        "nbgrader": {
          "cell_type": "code",
          "checksum": "04176d0900f45375d7c92d205887a96f",
          "grade": false,
          "grade_id": "cell-0f16313e839553e8",
          "locked": false,
          "schema_version": 3,
          "solution": true,
          "task": false
        },
        "colab": {
          "base_uri": "https://localhost:8080/"
        },
        "outputId": "a64a6b07-a4f7-40c9-fb15-3b86b5b358c7"
      },
      "outputs": [
        {
          "output_type": "stream",
          "name": "stdout",
          "text": [
            "The predicted value for brain size is: 1363.26\n"
          ]
        }
      ],
      "source": [
        "# Task 13\n",
        "\n",
        "# YOUR CODE HERE\n",
        "#20 yo, head size 3900\n",
        "x1 = 0\n",
        "x2 = 3900\n",
        "\n",
        "predicted_2 = intercept + (slope1 * x1) + (slope2 * x2)\n",
        "\n",
        "# View your prediction\n",
        "print('The predicted value for brain size is:', predicted_2)\n"
      ]
    },
    {
      "cell_type": "code",
      "execution_count": null,
      "metadata": {
        "deletable": false,
        "editable": false,
        "id": "To1R8KhhxKLV",
        "nbgrader": {
          "cell_type": "code",
          "checksum": "98120677d52f1a723a43bdcdb7b21dd7",
          "grade": true,
          "grade_id": "cell-1fdb89f3b3065c29",
          "locked": true,
          "points": 1,
          "schema_version": 3,
          "solution": false,
          "task": false
        }
      },
      "outputs": [],
      "source": [
        "# Task 13 - Test\n",
        "# Hidden tests - you will see the results when you submit to Canvas"
      ]
    },
    {
      "cell_type": "markdown",
      "metadata": {
        "id": "T1TDNIibteov"
      },
      "source": [
        "## Part B\n",
        "\n",
        "### Sleep Data\n",
        "\n",
        "Use the following information to answer the rest of the tasks in this project.\n",
        "\n",
        "Researchers recorded data on sleep duration as well as a set of ecological and constitutional variables  for a selection of mammal species. This data appears in the Sleep.csv dataset. \n",
        "\n",
        "Source: Allison, T. and Cicchetti, D. (1976), \"Sleep in Mammals: Ecological and Constitutional Correlates\",  Science, November 12, vol. 194, pp. 732-734.\n",
        "\n",
        "**Data Dictionary:**\n",
        "\n",
        "| Variable Name |            Description           |                                                                 Details                                                                 |              |   |\n",
        "|:-------------:|:--------------------------------:|:---------------------------------------------------------------------------------------------------------------------------------------:|--------------|---|\n",
        "| Animal        |            Animal name           |                                                            Character [string]                                                           |    |   |\n",
        "| Body          |            Body weight           |                                                               Numeric [kg]                                                              |       |   |\n",
        "| Brain         |           Brain weight           |                                                               Numeric [g]                                                               |  |   |\n",
        "| SWsleep       | Slow wave (“non-dreaming”) sleep | Numeric [hours]                                                                                                                         |              |   |\n",
        "| Parasleep     | Paradoxical (“dreaming”) sleep   | Numeric [hours]                                                                                                                         |              |   |\n",
        "| Totsleep      | Total sleep                      | Numeric [hours]                                                                                                                         |              |   |\n",
        "| Life          | Maximum life expectancy          | Numeric [years]                                                                                                                         |              |   |\n",
        "| Gest          | Gestation time                   | Numeric [days]                                                                                                                          |              |   |\n",
        "| Pred          | Predation index                  | Numeric [1 – 5] 1 = least likely to be preyed upon, 5 = most likely to be preyed upon                                                   |              |   |\n",
        "| Exposure      | Sleep exposure index             | Numeric [1 – 5] 1 = least amount of exposure during sleep (mammal sleeps indoors or in a den), 5 = most amount of exposure during sleep |              |   |\n",
        "| Danger        | Overall danger index             | Numeric [ 1 – 5] 1 = least amount of danger from other animals, 5 = most amount of danger from other animals                            |              |   |\n",
        "\n"
      ]
    },
    {
      "cell_type": "markdown",
      "metadata": {
        "id": "lAGRV2LkuKyw",
        "outputId": "ccabb7fa-9b46-476b-f8e7-f670f7ad3858"
      },
      "source": [
        "**Task 14**\n",
        "\n",
        "Before we can look at the data, we need to load in the data. The URL has been provided.\n",
        "\n",
        "* Load in the CSV file as a DataFrame and assign it to the variable `df_sleep`.\n",
        "* Make sure to view the DataFrame!"
      ]
    },
    {
      "cell_type": "code",
      "execution_count": null,
      "metadata": {
        "deletable": false,
        "id": "DFlrjGquxKLW",
        "nbgrader": {
          "cell_type": "code",
          "checksum": "4384083bf0047a1d40593ed3c1a1a7bd",
          "grade": false,
          "grade_id": "cell-3a230410ee200f46",
          "locked": false,
          "schema_version": 3,
          "solution": true,
          "task": false
        },
        "colab": {
          "base_uri": "https://localhost:8080/"
        },
        "outputId": "f2b3150f-a7eb-4e6b-9da9-6b918a38b5a3"
      },
      "outputs": [
        {
          "output_type": "execute_result",
          "data": {
            "text/plain": [
              "array([1, 5, 4, 2, 3])"
            ]
          },
          "metadata": {},
          "execution_count": 74
        }
      ],
      "source": [
        "# Task 14\n",
        "\n",
        "# Dataset URL - don't delete!\n",
        "data_url_2 = 'https://raw.githubusercontent.com/bloominstituteoftechnology/data-science-practice-datasets/main/unit_1/Sleep/Sleep.csv'\n",
        "\n",
        "# YOUR CODE HERE\n",
        "df_sleep = pd.read_csv(data_url_2)\n",
        "\n",
        "# Print out your DataFrame\n",
        "df_sleep.head(n=3)\n",
        "\n",
        "df_sleep['Exposure'].unique()"
      ]
    },
    {
      "cell_type": "markdown",
      "metadata": {
        "id": "QNcpKKKYfeFj"
      },
      "source": [
        "At the end of the guided project, we'd decided that the best model of dreaming sleep has the two variables gestation time and danger index (Adjusted R-squared about 50%).\n",
        "\n",
        "\n",
        "However, danger index was engineered from both predation index and exposure.  Perhaps one of those features is really more important in predicting dreaming sleep.  Can we improve model fit by replacing danger index with predation index or exposure index?"
      ]
    },
    {
      "cell_type": "markdown",
      "metadata": {
        "id": "XYs1IpYNk8Zw"
      },
      "source": [
        "**Task 15** - Multiple Regression Model\n",
        "\n",
        "Run an OLS model using the log of gestation time and predation index to predict the amount of time spent in dreaming sleep.  Is predation index a better predictor of the amount of time spent in dreaming sleep than danger index?\n",
        "* Fit a model to Y (dreaming sleep) and X1 and X2 (gestational time and predation index); assign your model to the variable `model_sleep1` (make sure to use `C(Pred)` for the predation index variable)\n",
        "* Print the model summary\n",
        "* Examine the adjusted R-quared and compare it to the adjusted R-squared from the model with gestational time and danger index.\n",
        "* Choose the letter of the correct answer from the answer choices listed below and assign that letter to `answer`.  For example, if your answer is choice B, in the solution block you will type `answer = 'B'`.\n",
        "\n",
        "\n",
        "Answer choices:\n",
        "\n",
        "**A:** The adjusted r-squared for the model with predation index is greater than the adjusted r-squared for the model with danger index, therefore predation index is a better predictor of dreaming sleep.\n",
        "\n",
        "**B:** The adjusted r-squared for the model with predation index is less than than the adjusted r-squared for the model with danger index, therefore predation index is a better predictor of dreaming sleep.\n",
        "\n",
        "**C:** The adjusted r-squared for the model with predation index is less than than the adjusted r-squared for the model with danger index, therefore predation index is not as good a predictor of dreaming sleep.\n",
        "\n",
        "**D:** The adjusted r-squared for the model with predation index is greater than than the adjusted r-squared for the model with danger index, therefore predation index is not as good a predictor of dreaming sleep."
      ]
    },
    {
      "cell_type": "code",
      "execution_count": null,
      "metadata": {
        "deletable": false,
        "id": "t9xM-7Z3xKLY",
        "nbgrader": {
          "cell_type": "code",
          "checksum": "7bfcfe30bf785210f981163406005188",
          "grade": false,
          "grade_id": "cell-1c00b428d5be8030",
          "locked": false,
          "schema_version": 3,
          "solution": true,
          "task": false
        },
        "colab": {
          "base_uri": "https://localhost:8080/"
        },
        "outputId": "852e6869-26e4-41aa-8d2e-c0d176e7af6c"
      },
      "outputs": [
        {
          "output_type": "stream",
          "name": "stdout",
          "text": [
            "                            OLS Regression Results                            \n",
            "==============================================================================\n",
            "Dep. Variable:              Parasleep   R-squared:                       0.454\n",
            "Model:                            OLS   Adj. R-squared:                  0.378\n",
            "Method:                 Least Squares   F-statistic:                     5.983\n",
            "Date:                Mon, 10 Oct 2022   Prob (F-statistic):           0.000398\n",
            "Time:                        21:38:23   Log-Likelihood:                -60.182\n",
            "No. Observations:                  42   AIC:                             132.4\n",
            "Df Residuals:                      36   BIC:                             142.8\n",
            "Df Model:                           5                                         \n",
            "Covariance Type:            nonrobust                                         \n",
            "================================================================================\n",
            "                   coef    std err          t      P>|t|      [0.025      0.975]\n",
            "--------------------------------------------------------------------------------\n",
            "Intercept        5.4498      0.840      6.489      0.000       3.746       7.153\n",
            "C(Pred)[T.2]    -0.0895      0.515     -0.174      0.863      -1.135       0.956\n",
            "C(Pred)[T.3]    -0.5359      0.567     -0.944      0.351      -1.687       0.615\n",
            "C(Pred)[T.4]    -1.0337      0.568     -1.821      0.077      -2.185       0.117\n",
            "C(Pred)[T.5]    -1.1972      0.532     -2.249      0.031      -2.277      -0.118\n",
            "log_gest        -0.6877      0.165     -4.159      0.000      -1.023      -0.352\n",
            "==============================================================================\n",
            "Omnibus:                        5.334   Durbin-Watson:                   1.927\n",
            "Prob(Omnibus):                  0.069   Jarque-Bera (JB):                6.290\n",
            "Skew:                           0.188   Prob(JB):                       0.0431\n",
            "Kurtosis:                       4.858   Cond. No.                         28.2\n",
            "==============================================================================\n",
            "\n",
            "Notes:\n",
            "[1] Standard Errors assume that the covariance matrix of the errors is correctly specified.\n"
          ]
        }
      ],
      "source": [
        "# Task 15\n",
        "# complete the log of gestational time - DO NOT DELETE\n",
        "\n",
        "import numpy as np\n",
        "df_sleep['log_gest'] = np.log(df_sleep['Gest'])\n",
        "\n",
        "# YOUR CODE HERE\n",
        "model_sleep1 = ols('Parasleep ~ log_gest + C(Pred)', data=df_sleep).fit()\n",
        "\n",
        "print(model_sleep1.summary())\n",
        "\n",
        "answer = 'C'"
      ]
    },
    {
      "cell_type": "code",
      "execution_count": null,
      "metadata": {
        "deletable": false,
        "editable": false,
        "id": "hvrMEfiPEUlx",
        "nbgrader": {
          "cell_type": "code",
          "checksum": "889a2b5c94b0f38b5c88601332b6cadf",
          "grade": true,
          "grade_id": "cell-1161a4fd34666d28",
          "locked": true,
          "points": 1,
          "schema_version": 3,
          "solution": false,
          "task": false
        }
      },
      "outputs": [],
      "source": [
        "# Task 15 - Test\n",
        "# Hidden tests - you will see the results when you submit to Canvas"
      ]
    },
    {
      "cell_type": "markdown",
      "metadata": {
        "id": "bce2Pv8RE3u2"
      },
      "source": [
        "**Task 16** - Multiple Regression Model\n",
        "\n",
        "Run an OLS model using the log of gestation time and exposure index to predict the amount of time spent in dreaming sleep.  Is exposure index a better predictor of amount of time spent in dreaming sleep than danger index?\n",
        "* Fit a model to Y (dreaming sleep) and X1 and X2 (gestational time and exposure index); assign your model to the variable `model_sleep2` (make sure to use `C(Exposure)` for the exposure index variable)\n",
        "* Print the model summary\n",
        "* Examine the adjusted R-quared and compare it to the adjusted R-squared from the model with gestational time and danger index.\n",
        "* Choose the letter of the correct answer from the answer choices listed below and assign that letter to `answer`.  For example, if your answer is choice B, in the solution block you will type `answer = 'B'`.\n",
        "\n",
        "\n",
        "Answer choices:\n",
        "\n",
        "**A:** The adjusted r-squared for the model with exposure index is greater than the adjusted r-squared for the model with danger index, therefore exposure index is a better predictor of dreaming sleep.\n",
        "\n",
        "**B:** The adjusted r-squared for the model with exposure index is less than than the adjusted r-squared for the model with danger index, therefore exposure index is a better predictor of dreaming sleep.\n",
        "\n",
        "**C:** The adjusted r-squared for the model with exposure index is less than than the adjusted r-squared for the model with danger index, therefore exposure index is not as good a predictor of dreaming sleep.\n",
        "\n",
        "**D:** The adjusted r-squared for the model with exposure index is greater than than the adjusted r-squared for the model with danger index, therefore exposure index is not as good a predictor of dreaming sleep."
      ]
    },
    {
      "cell_type": "code",
      "execution_count": null,
      "metadata": {
        "deletable": false,
        "id": "2gWcjeocGVpR",
        "nbgrader": {
          "cell_type": "code",
          "checksum": "ae7d1504ab176727a49fd1fdd1e05675",
          "grade": false,
          "grade_id": "cell-2e14151d6dcd21d2",
          "locked": false,
          "schema_version": 3,
          "solution": true,
          "task": false
        },
        "colab": {
          "base_uri": "https://localhost:8080/"
        },
        "outputId": "a4737120-33ba-4652-a702-d6d1623baf70"
      },
      "outputs": [
        {
          "output_type": "stream",
          "name": "stdout",
          "text": [
            "                            OLS Regression Results                            \n",
            "==============================================================================\n",
            "Dep. Variable:              Parasleep   R-squared:                       0.389\n",
            "Model:                            OLS   Adj. R-squared:                  0.304\n",
            "Method:                 Least Squares   F-statistic:                     4.583\n",
            "Date:                Mon, 10 Oct 2022   Prob (F-statistic):            0.00245\n",
            "Time:                        21:51:37   Log-Likelihood:                -62.540\n",
            "No. Observations:                  42   AIC:                             137.1\n",
            "Df Residuals:                      36   BIC:                             147.5\n",
            "Df Model:                           5                                         \n",
            "Covariance Type:            nonrobust                                         \n",
            "====================================================================================\n",
            "                       coef    std err          t      P>|t|      [0.025      0.975]\n",
            "------------------------------------------------------------------------------------\n",
            "Intercept            4.6239      0.848      5.455      0.000       2.905       6.343\n",
            "C(Exposure)[T.2]    -0.6132      0.487     -1.259      0.216      -1.601       0.375\n",
            "C(Exposure)[T.3]    -0.9614      0.702     -1.369      0.180      -2.386       0.463\n",
            "C(Exposure)[T.4]    -0.8153      0.690     -1.182      0.245      -2.214       0.583\n",
            "C(Exposure)[T.5]    -0.9677      0.617     -1.570      0.125      -2.218       0.283\n",
            "log_gest            -0.5171      0.214     -2.418      0.021      -0.951      -0.083\n",
            "==============================================================================\n",
            "Omnibus:                        7.922   Durbin-Watson:                   1.960\n",
            "Prob(Omnibus):                  0.019   Jarque-Bera (JB):                6.895\n",
            "Skew:                           0.794   Prob(JB):                       0.0318\n",
            "Kurtosis:                       4.191   Cond. No.                         27.0\n",
            "==============================================================================\n",
            "\n",
            "Notes:\n",
            "[1] Standard Errors assume that the covariance matrix of the errors is correctly specified.\n"
          ]
        }
      ],
      "source": [
        "# Task 16\n",
        "# YOUR CODE HERE\n",
        "model_sleep2 = ols('Parasleep ~ C(Exposure) + log_gest', data=df_sleep).fit()\n",
        "\n",
        "print(model_sleep2.summary())\n",
        "\n",
        "answer = 'C'"
      ]
    },
    {
      "cell_type": "code",
      "execution_count": null,
      "metadata": {
        "deletable": false,
        "editable": false,
        "id": "Ehw7vT-CGgZM",
        "nbgrader": {
          "cell_type": "code",
          "checksum": "b9a500062ca2654deb07652038189619",
          "grade": true,
          "grade_id": "cell-7636eb3cff27dfd9",
          "locked": true,
          "points": 1,
          "schema_version": 3,
          "solution": false,
          "task": false
        }
      },
      "outputs": [],
      "source": [
        "# Task 16 - Test\n",
        "# Hidden tests - you will see the results when you submit to Canvas"
      ]
    }
  ],
  "metadata": {
    "colab": {
      "collapsed_sections": [],
      "provenance": []
    },
    "kernelspec": {
      "display_name": "Python 3",
      "language": "python",
      "name": "python3"
    },
    "language_info": {
      "codemirror_mode": {
        "name": "ipython",
        "version": 3
      },
      "file_extension": ".py",
      "mimetype": "text/x-python",
      "name": "python",
      "nbconvert_exporter": "python",
      "pygments_lexer": "ipython3",
      "version": "3.8.8"
    }
  },
  "nbformat": 4,
  "nbformat_minor": 0
}